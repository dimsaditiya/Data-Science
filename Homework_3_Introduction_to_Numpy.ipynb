{
  "nbformat": 4,
  "nbformat_minor": 0,
  "metadata": {
    "colab": {
      "name": "Homework 3 - Introduction to Numpy.ipynb",
      "provenance": []
    },
    "kernelspec": {
      "name": "python3",
      "display_name": "Python 3"
    },
    "language_info": {
      "name": "python"
    }
  },
  "cells": [
    {
      "cell_type": "code",
      "metadata": {
        "colab": {
          "base_uri": "https://localhost:8080/"
        },
        "id": "TA9FF3gpvfVA",
        "outputId": "9a3e43d5-6a78-4b76-ee9c-2516cb3e3e03"
      },
      "source": [
        "!pip install numpy"
      ],
      "execution_count": 8,
      "outputs": [
        {
          "output_type": "stream",
          "name": "stdout",
          "text": [
            "Requirement already satisfied: numpy in /usr/local/lib/python3.7/dist-packages (1.19.5)\n"
          ]
        }
      ]
    },
    {
      "cell_type": "code",
      "metadata": {
        "id": "tAn7kEMbuL7Z"
      },
      "source": [
        "import numpy as np"
      ],
      "execution_count": 9,
      "outputs": []
    },
    {
      "cell_type": "code",
      "metadata": {
        "id": "6Ww0ANxK1VBf",
        "colab": {
          "base_uri": "https://localhost:8080/"
        },
        "outputId": "b0d5caa8-37cc-4065-e051-81e3008f5688"
      },
      "source": [
        "# Template kode\n",
        "def get_inverse_matrix_2d(M):\n",
        "  if np.linalg.inv(M).all() != 0:\n",
        "    Adj_M = 'Matrix memiliki inverse'\n",
        "  else:\n",
        "    Adj_M = 'Matrix tidak memiliki inverse'\n",
        "  print(np.linalg.inv(M))\n",
        "  return Adj_M\n",
        "\n",
        "M = np.array([[4, 7],[2, 6]])\n",
        "print(get_inverse_matrix_2d(M))"
      ],
      "execution_count": 15,
      "outputs": [
        {
          "output_type": "stream",
          "name": "stdout",
          "text": [
            "[[ 0.6 -0.7]\n",
            " [-0.2  0.4]]\n",
            "Matrix memiliki inverse\n"
          ]
        }
      ]
    }
  ]
}